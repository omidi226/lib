{
 "cells": [
  {
   "cell_type": "code",
   "execution_count": 7,
   "id": "25671761",
   "metadata": {},
   "outputs": [
    {
     "name": "stdout",
     "output_type": "stream",
     "text": [
      "InVars: [WCEC1, WCEC2, WCEC3, maxCost, minDelay]\n",
      "OutVars:[beta1, beta2, beta3, alpha1, alpha2, alpha3, gamma1, gamma2, gamma3]\n",
      "A: [\n",
      "  maxCost <= 1\n",
      "  minDelay = 1\n",
      "]\n",
      "G: [\n",
      "  alpha1 = 3\n",
      "  alpha2 = 2\n",
      "  alpha3 = 1\n",
      "  beta1 = 1\n",
      "  beta2 = 2\n",
      "  beta3 = 3\n",
      "  gamma1 = 1\n",
      "  gamma2 = 1\n",
      "  gamma3 = 1\n",
      "]\n"
     ]
    }
   ],
   "source": [
    "from pacti.contracts import PolyhedralIoContract\n",
    "\n",
    "AppContract = PolyhedralIoContract.from_strings(\n",
    "    input_vars=[\"beta1\",\"beta2\",\"beta3\"],\n",
    "    output_vars=[\"WCEC1\",\"WCEC2\",\"WCEC3\"],\n",
    "    assumptions=[],\n",
    "    guarantees=[\"WCEC1=1+beta1\",\"WCEC2=2+beta2\",\"WCEC3=3+beta3\"]\n",
    ")\n",
    "\n",
    "PlatContract = PolyhedralIoContract.from_strings(\n",
    "    input_vars=[\"mode1\",\"mode2\"],\n",
    "    output_vars=[\"ERATE1\",\"ERATE2\",\"ERATE3\"],\n",
    "    assumptions=[],\n",
    "    guarantees=[\"ERATE1=1+2mode1\",\"ERATE2=1+2mode1\",\"ERATE3=1+mode1\"]\n",
    ")\n",
    "\n",
    "MapperContract = PolyhedralIoContract.from_strings(\n",
    "    input_vars=[\"ERATE1\",\"ERATE2\",\"ERATE3\",\"WCEC1\",\"WCEC2\",\"WCEC3\",\"maxCost\",\"minDelay\"],\n",
    "    output_vars=[\"mode1\",\"mode2\",\"beta1\",\"beta2\",\"beta3\", \"alpha1\",\"alpha2\",\"alpha3\",\"gamma1\",\"gamma2\",\"gamma3\"],\n",
    "    assumptions=[\"maxCost<=1\",\"minDelay=1\"],\n",
    "    guarantees=[\"ERATE1=1\",\"ERATE2=1\",\"ERATE3=1\", \"alpha1=3\",\"alpha2=2\",\"alpha3=1\",\"beta1=1\",\"beta2=2\",\"beta3=3\",\"gamma1=1\",\"gamma2=1\",\"gamma3=1\"]\n",
    ")\n",
    "\n",
    "system_contract = AppContract.compose(MapperContract)\n",
    "system_contract1 = MapperContract.compose(PlatContract)\n",
    "print(system_contract1)"
   ]
  },
  {
   "cell_type": "code",
   "execution_count": null,
   "id": "d81fd541",
   "metadata": {},
   "outputs": [],
   "source": []
  }
 ],
 "metadata": {
  "kernelspec": {
   "display_name": "Python 3 (ipykernel)",
   "language": "python",
   "name": "python3"
  },
  "language_info": {
   "codemirror_mode": {
    "name": "ipython",
    "version": 3
   },
   "file_extension": ".py",
   "mimetype": "text/x-python",
   "name": "python",
   "nbconvert_exporter": "python",
   "pygments_lexer": "ipython3",
   "version": "3.11.4"
  }
 },
 "nbformat": 4,
 "nbformat_minor": 5
}
