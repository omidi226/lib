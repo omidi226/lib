{
 "cells": [
  {
   "cell_type": "code",
   "execution_count": 9,
   "id": "07d2fad7",
   "metadata": {},
   "outputs": [
    {
     "ename": "IncompatibleArgsError",
     "evalue": "Cannot compose the following contracts due to incompatible IO profiles:\n InVars: [i]\nOutVars:[o]\nA: [\n  i <= 2\n]\nG: [\n  o <= 4\n] \n InVars: [i]\nOutVars:[o]\nA: [\n  i <= 2\n]\nG: [\n  o <= 4\n]",
     "output_type": "error",
     "traceback": [
      "\u001b[1;31m---------------------------------------------------------------------------\u001b[0m",
      "\u001b[1;31mIncompatibleArgsError\u001b[0m                     Traceback (most recent call last)",
      "Cell \u001b[1;32mIn[9], line 24\u001b[0m\n\u001b[0;32m     10\u001b[0m s1contract2 \u001b[38;5;241m=\u001b[39m PolyhedralIoContract\u001b[38;5;241m.\u001b[39mfrom_strings(\n\u001b[0;32m     11\u001b[0m     input_vars\u001b[38;5;241m=\u001b[39m[\u001b[38;5;124m\"\u001b[39m\u001b[38;5;124mi\u001b[39m\u001b[38;5;124m\"\u001b[39m],\n\u001b[0;32m     12\u001b[0m     output_vars\u001b[38;5;241m=\u001b[39m[\u001b[38;5;124m\"\u001b[39m\u001b[38;5;124mo\u001b[39m\u001b[38;5;124m\"\u001b[39m],\n\u001b[0;32m     13\u001b[0m     assumptions\u001b[38;5;241m=\u001b[39m[\u001b[38;5;124m\"\u001b[39m\u001b[38;5;124mi <=2\u001b[39m\u001b[38;5;124m\"\u001b[39m],\n\u001b[0;32m     14\u001b[0m     guarantees\u001b[38;5;241m=\u001b[39m[\u001b[38;5;124m\"\u001b[39m\u001b[38;5;124mo <= 4\u001b[39m\u001b[38;5;124m\"\u001b[39m]\n\u001b[0;32m     15\u001b[0m )\n\u001b[0;32m     17\u001b[0m s1contract3 \u001b[38;5;241m=\u001b[39m PolyhedralIoContract\u001b[38;5;241m.\u001b[39mfrom_strings(\n\u001b[0;32m     18\u001b[0m     input_vars\u001b[38;5;241m=\u001b[39m[\u001b[38;5;124m\"\u001b[39m\u001b[38;5;124mi\u001b[39m\u001b[38;5;124m\"\u001b[39m],\n\u001b[0;32m     19\u001b[0m     output_vars\u001b[38;5;241m=\u001b[39m[\u001b[38;5;124m\"\u001b[39m\u001b[38;5;124mo\u001b[39m\u001b[38;5;124m\"\u001b[39m],\n\u001b[0;32m     20\u001b[0m     assumptions\u001b[38;5;241m=\u001b[39m[\u001b[38;5;124m\"\u001b[39m\u001b[38;5;124mi <=2\u001b[39m\u001b[38;5;124m\"\u001b[39m],\n\u001b[0;32m     21\u001b[0m     guarantees\u001b[38;5;241m=\u001b[39m[\u001b[38;5;124m\"\u001b[39m\u001b[38;5;124mo <= 4\u001b[39m\u001b[38;5;124m\"\u001b[39m]\n\u001b[0;32m     22\u001b[0m )\n\u001b[1;32m---> 24\u001b[0m component1 \u001b[38;5;241m=\u001b[39m s1contract1\u001b[38;5;241m.\u001b[39mcompose(s1contract2)\u001b[38;5;241m.\u001b[39mcompose(s1contract3)\n\u001b[0;32m     27\u001b[0m \u001b[38;5;28mprint\u001b[39m(component1)\n",
      "File \u001b[1;32m~\\anaconda3\\Lib\\site-packages\\pacti\\contracts\\polyhedral_iocontract.py:182\u001b[0m, in \u001b[0;36mPolyhedralIoContract.compose\u001b[1;34m(self, other, vars_to_keep)\u001b[0m\n\u001b[0;32m    180\u001b[0m \u001b[38;5;28;01mif\u001b[39;00m vars_to_keep \u001b[38;5;129;01mis\u001b[39;00m \u001b[38;5;28;01mNone\u001b[39;00m:\n\u001b[0;32m    181\u001b[0m     vars_to_keep \u001b[38;5;241m=\u001b[39m []\n\u001b[1;32m--> 182\u001b[0m \u001b[38;5;28;01mreturn\u001b[39;00m \u001b[38;5;28msuper\u001b[39m()\u001b[38;5;241m.\u001b[39mcompose(other, [Var(x) \u001b[38;5;28;01mfor\u001b[39;00m x \u001b[38;5;129;01min\u001b[39;00m vars_to_keep])\n",
      "File \u001b[1;32m~\\anaconda3\\Lib\\site-packages\\pacti\\iocontract\\iocontract.py:610\u001b[0m, in \u001b[0;36mIoContract.compose\u001b[1;34m(self, other, vars_to_keep)\u001b[0m\n\u001b[0;32m    608\u001b[0m assumptions_forbidden_vars \u001b[38;5;241m=\u001b[39m list_union(intvars, outputvars)\n\u001b[0;32m    609\u001b[0m \u001b[38;5;28;01mif\u001b[39;00m \u001b[38;5;129;01mnot\u001b[39;00m \u001b[38;5;28mself\u001b[39m\u001b[38;5;241m.\u001b[39mcan_compose_with(other):\n\u001b[1;32m--> 610\u001b[0m     \u001b[38;5;28;01mraise\u001b[39;00m IncompatibleArgsError(\n\u001b[0;32m    611\u001b[0m         \u001b[38;5;124m\"\u001b[39m\u001b[38;5;124mCannot compose the following contracts due to incompatible IO profiles:\u001b[39m\u001b[38;5;130;01m\\n\u001b[39;00m\u001b[38;5;124m \u001b[39m\u001b[38;5;132;01m%s\u001b[39;00m\u001b[38;5;124m \u001b[39m\u001b[38;5;130;01m\\n\u001b[39;00m\u001b[38;5;124m \u001b[39m\u001b[38;5;132;01m%s\u001b[39;00m\u001b[38;5;124m\"\u001b[39m \u001b[38;5;241m%\u001b[39m (\u001b[38;5;28mself\u001b[39m, other)\n\u001b[0;32m    612\u001b[0m     )\n\u001b[0;32m    613\u001b[0m other_helps_self \u001b[38;5;241m=\u001b[39m \u001b[38;5;28mlen\u001b[39m(list_intersection(other\u001b[38;5;241m.\u001b[39moutputvars, \u001b[38;5;28mself\u001b[39m\u001b[38;5;241m.\u001b[39minputvars)) \u001b[38;5;241m>\u001b[39m \u001b[38;5;241m0\u001b[39m\n\u001b[0;32m    614\u001b[0m self_helps_other \u001b[38;5;241m=\u001b[39m \u001b[38;5;28mlen\u001b[39m(list_intersection(other\u001b[38;5;241m.\u001b[39minputvars, \u001b[38;5;28mself\u001b[39m\u001b[38;5;241m.\u001b[39moutputvars)) \u001b[38;5;241m>\u001b[39m \u001b[38;5;241m0\u001b[39m\n",
      "\u001b[1;31mIncompatibleArgsError\u001b[0m: Cannot compose the following contracts due to incompatible IO profiles:\n InVars: [i]\nOutVars:[o]\nA: [\n  i <= 2\n]\nG: [\n  o <= 4\n] \n InVars: [i]\nOutVars:[o]\nA: [\n  i <= 2\n]\nG: [\n  o <= 4\n]"
     ]
    }
   ],
   "source": [
    "from pacti.contracts import PolyhedralIoContract\n",
    "\n",
    "s1contract1 = PolyhedralIoContract.from_strings(\n",
    "    input_vars=[\"i\"],\n",
    "    output_vars=[\"o\"],\n",
    "    assumptions=[\"i<=2\"],\n",
    "    guarantees=[\"o <= 4\"]\n",
    ")\n",
    "\n",
    "s1contract2 = PolyhedralIoContract.from_strings(\n",
    "    input_vars=[\"i\"],\n",
    "    output_vars=[\"o\"],\n",
    "    assumptions=[\"i <=2\"],\n",
    "    guarantees=[\"o <= 4\"]\n",
    ")\n",
    "\n",
    "s1contract3 = PolyhedralIoContract.from_strings(\n",
    "    input_vars=[\"i\"],\n",
    "    output_vars=[\"o\"],\n",
    "    assumptions=[\"i <=2\"],\n",
    "    guarantees=[\"o <= 4\"]\n",
    ")\n",
    "\n",
    "component1 = s1contract1.compose(s1contract2).compose(s1contract3)\n",
    "\n",
    "\n",
    "print(component1)\n",
    "\n",
    "\n",
    "\n",
    "\n",
    "\n",
    "\n",
    "\n",
    "\n",
    "\n",
    "\n"
   ]
  },
  {
   "cell_type": "code",
   "execution_count": null,
   "id": "5777a969",
   "metadata": {},
   "outputs": [],
   "source": []
  },
  {
   "cell_type": "code",
   "execution_count": null,
   "id": "4dc9845e",
   "metadata": {},
   "outputs": [],
   "source": []
  }
 ],
 "metadata": {
  "kernelspec": {
   "display_name": "Python 3 (ipykernel)",
   "language": "python",
   "name": "python3"
  },
  "language_info": {
   "codemirror_mode": {
    "name": "ipython",
    "version": 3
   },
   "file_extension": ".py",
   "mimetype": "text/x-python",
   "name": "python",
   "nbconvert_exporter": "python",
   "pygments_lexer": "ipython3",
   "version": "3.11.4"
  }
 },
 "nbformat": 4,
 "nbformat_minor": 5
}
