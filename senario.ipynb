{
 "cells": [
  {
   "cell_type": "code",
   "execution_count": 12,
   "id": "07d2fad7",
   "metadata": {},
   "outputs": [
    {
     "name": "stdout",
     "output_type": "stream",
     "text": [
      "[\n",
      "  i <= 2\n",
      "]\n",
      "[\n",
      "  o <= 10\n",
      "]\n"
     ]
    }
   ],
   "source": [
    "from pacti.contracts import PolyhedralIoContract\n",
    "\n",
    "s1contract1 = PolyhedralIoContract.from_strings(\n",
    "    input_vars=[\"i\"],\n",
    "    output_vars=[\"o\"],\n",
    "    assumptions=[\"i<=2\"],\n",
    "    guarantees=[\"o <= 4\"]\n",
    ")\n",
    "\n",
    "s1contract2 = PolyhedralIoContract.from_strings(\n",
    "    input_vars=[\"i\"],\n",
    "    output_vars=[\"o\"],\n",
    "    assumptions=[\"i <=1\"],\n",
    "    guarantees=[\"o <= 5\"]\n",
    ")\n",
    "\n",
    "s1contract3 = PolyhedralIoContract.from_strings(\n",
    "    input_vars=[\"i\"],\n",
    "    output_vars=[\"o\"],\n",
    "    assumptions=[\"i <=3\"],\n",
    "    guarantees=[\"o <= 10\"]\n",
    ")\n",
    "\n",
    "asssumption=s1contract1.a or s1contract2.a or s1contract3.a\n",
    "guarantee= s1contract1.g and s1contract2.g and s1contract3.g\n",
    "print(asssumption)\n",
    "print(guarantee)\n",
    "\n",
    "\n",
    "\n"
   ]
  },
  {
   "cell_type": "code",
   "execution_count": null,
   "id": "5777a969",
   "metadata": {},
   "outputs": [],
   "source": []
  },
  {
   "cell_type": "code",
   "execution_count": null,
   "id": "4dc9845e",
   "metadata": {},
   "outputs": [],
   "source": []
  }
 ],
 "metadata": {
  "kernelspec": {
   "display_name": "Python 3 (ipykernel)",
   "language": "python",
   "name": "python3"
  },
  "language_info": {
   "codemirror_mode": {
    "name": "ipython",
    "version": 3
   },
   "file_extension": ".py",
   "mimetype": "text/x-python",
   "name": "python",
   "nbconvert_exporter": "python",
   "pygments_lexer": "ipython3",
   "version": "3.11.4"
  }
 },
 "nbformat": 4,
 "nbformat_minor": 5
}
