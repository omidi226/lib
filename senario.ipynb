{
 "cells": [
  {
   "cell_type": "code",
   "execution_count": 8,
   "id": "07d2fad7",
   "metadata": {},
   "outputs": [
    {
     "name": "stdout",
     "output_type": "stream",
     "text": [
      "InVars: [i]\n",
      "OutVars:[op]\n",
      "A: [\n",
      "  i <= 1\n",
      "]\n",
      "G: [\n",
      "  -i + op <= 0\n",
      "]\n",
      "InVars: [i]\n",
      "OutVars:[op]\n",
      "A: [\n",
      "  i <= 1\n",
      "]\n",
      "G: [\n",
      "  -i + op <= 0\n",
      "]\n"
     ]
    }
   ],
   "source": [
    "from pacti.contracts import PolyhedralIoContract\n",
    "\n",
    "s1contract1 = PolyhedralIoContract.from_strings(\n",
    "    input_vars=[\"i\"],\n",
    "    output_vars=[\"o\"],\n",
    "    assumptions=[\"i<=1\"],\n",
    "    guarantees=[\"o <= i\"]\n",
    ")\n",
    "\n",
    "s1contract2 = PolyhedralIoContract.from_strings(\n",
    "    input_vars=[\"o\"],\n",
    "    output_vars=[\"op\"],\n",
    "    assumptions=[\"o <=2\"],\n",
    "    guarantees=[\"op <= o\"]\n",
    ")\n",
    "\n",
    "s1contract3 = PolyhedralIoContract.from_strings(\n",
    "    input_vars=[\"m\"],\n",
    "    output_vars=[\"n\"],\n",
    "    assumptions=[\"m <=2\"],\n",
    "    guarantees=[\"n <= m\"]\n",
    ")\n",
    "\n",
    "system_contract1 = s1contract1.compose(s1contract2)\n",
    "\n",
    "\n",
    "print(system_contract1)\n",
    "\n",
    "s2contract1 = PolyhedralIoContract.from_strings(\n",
    "    input_vars=[\"k\"],\n",
    "    output_vars=[\"l\"],\n",
    "    assumptions=[\"k<=1\"],\n",
    "    guarantees=[\"l<= k\"]\n",
    ")\n",
    "\n",
    "s2contract2 = PolyhedralIoContract.from_strings(\n",
    "    input_vars=[\"p\"],\n",
    "    output_vars=[\"q\"],\n",
    "    assumptions=[\"p <=2\"],\n",
    "    guarantees=[\"q <= p\"]\n",
    ")\n",
    "\n",
    "s2contract3 = PolyhedralIoContract.from_strings(\n",
    "    input_vars=[\"r\"],\n",
    "    output_vars=[\"s\"],\n",
    "    assumptions=[\"r <=2\"],\n",
    "    guarantees=[\"s <= r\"]\n",
    ")\n",
    "\n",
    "system_contract2 = s2contract1.compose(s2contract2)\n",
    "\n",
    "\n",
    "print(system_contract2)\n",
    "\n",
    "\n",
    "\n",
    "\n",
    "\n",
    "\n",
    "\n",
    "\n"
   ]
  },
  {
   "cell_type": "code",
   "execution_count": null,
   "id": "5777a969",
   "metadata": {},
   "outputs": [],
   "source": []
  },
  {
   "cell_type": "code",
   "execution_count": null,
   "id": "4dc9845e",
   "metadata": {},
   "outputs": [],
   "source": []
  }
 ],
 "metadata": {
  "kernelspec": {
   "display_name": "Python 3 (ipykernel)",
   "language": "python",
   "name": "python3"
  },
  "language_info": {
   "codemirror_mode": {
    "name": "ipython",
    "version": 3
   },
   "file_extension": ".py",
   "mimetype": "text/x-python",
   "name": "python",
   "nbconvert_exporter": "python",
   "pygments_lexer": "ipython3",
   "version": "3.11.4"
  }
 },
 "nbformat": 4,
 "nbformat_minor": 5
}
